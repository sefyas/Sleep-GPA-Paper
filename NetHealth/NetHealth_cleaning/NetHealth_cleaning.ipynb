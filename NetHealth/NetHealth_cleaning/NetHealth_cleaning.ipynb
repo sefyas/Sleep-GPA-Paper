{
 "cells": [
  {
   "cell_type": "markdown",
   "metadata": {},
   "source": [
    "The NetHealth dataset was provided in a very different format from the Fitbit and UWEXP datasets. Specifically, the file Sleep contains all the raw sleep data, but each row in Sleep is missing information about the date and subject. These items can be identified with the sleepMetaID column which points to idSleepMeta in sleep_meta.csv, and then mapping the StudyID in sleep_meta.csv to the idStudy column in StudyEgo.csv. StudyEgo.csv contains the information about both the date and subject. The relationships are summarized below:\n",
    "\n",
    "* sleepMetaID in Sleep points to idSleepMeta in sleep_meta.csv\n",
    "* StudyID in sleep_meta.csv points to idStudy in StudyEgo.csv"
   ]
  },
  {
   "cell_type": "markdown",
   "metadata": {},
   "source": [
    "The NetHealth_cleaning directory is structured as follows:\n",
    "* Sleep_split_by_sleepMetaID/ is the raw Sleep file split by the unique values in the sleepMetaID column. This folder was created by placing the Sleep file into the folder and running the awk command in the following cell in the folder's working directory.\n",
    "* StudyEgo_split_by_egoid/ is the StudyEgo.csv file split by the unique values in the EgoID column. This folder was created by placing the StudyEgo.csv file into the folder and running the awk command in the following cell in the folder's working directory.\n",
    "* StudyEgo_split_by_egoid_grades_only/ is a subset of StudyEgo_split_by_egoid/ which only contains the participants who agreed to share institutional grade data (i.e. those participants that are listed in the CourseGrades(3-6-20).csv file)"
   ]
  },
  {
   "cell_type": "markdown",
   "metadata": {},
   "source": [
    "Sleep -> Sleep_split_by_sleepMetaID/\n",
    "```\n",
    "foo@bar:~/Sleep_split_by_sleepMetaID$ awk -F, 'NR==1 {h=$0; next} {f=$2\".csv\"} !($2 in p) {p[$2]; print h > f} {print >> f;close(f);}' Sleep\n",
    "```\n",
    "\n",
    "StudyEgo.csv -> StudyEgo_split_by_egoid/\n",
    "```\n",
    "foo@bar:~/StudyEgo_split_by_egoid$ awk -F, 'NR==1 {h=$0; next} {f=$2\".csv\"} !($2 in p) {p[$2]; print h > f} {print >> f}' StudyEgo.csv\n",
    "```"
   ]
  },
  {
   "cell_type": "code",
   "execution_count": 4,
   "metadata": {},
   "outputs": [],
   "source": [
    "import pandas as pd\n",
    "import numpy as np\n",
    "import os\n",
    "from shutil import copy\n",
    "from tqdm import tqdm\n",
    "import csv\n",
    "from datetime import datetime, timedelta, time, date\n"
   ]
  },
  {
   "cell_type": "code",
   "execution_count": 5,
   "metadata": {},
   "outputs": [],
   "source": [
    "EGOID_DIR = 'StudyEgo_split_by_egoid/'\n",
    "EGOID_GRADES_DIR = 'StudyEgo_split_by_egoid_grades_only/'\n",
    "SPLIT_BY_METAID_DIR = 'Sleep_split_by_sleepMetaID/'\n",
    "SLEEP_RAW_DIR = 'sleep_raw_data/'\n",
    "COMBINED_DIR = '../sleep_steps_data/'\n",
    "\n",
    "GRADES = pd.read_csv('CourseGrades(3-6-20).csv', low_memory=False)\n",
    "SLEEP_META_PATH = 'sleep_meta.csv'\n",
    "# sleepMetaID_paths = set([int(x.split('.')[0]) for x in os.listdir(split_by_metaid_dir)])"
   ]
  },
  {
   "cell_type": "markdown",
   "metadata": {},
   "source": [
    "Here, we create the folder StudyEgo_split_by_egoid_grades_only/ as a subset of StudyEgo_split_by_egoid/ by copying over the participants whose ID is available in CourseGrades(3-6-20).csv"
   ]
  },
  {
   "cell_type": "code",
   "execution_count": 6,
   "metadata": {},
   "outputs": [],
   "source": [
    "def copyAllStudentsWithGradesData():\n",
    "    egoids = os.listdir(EGOID_DIR) # all egoids \n",
    "    egoids_grades = list(GRADES['egoid'].unique()) # egoids w/ grade data available\n",
    "    for file in tqdm(egoids):\n",
    "        file_egoid = int(file.split('.')[0])\n",
    "        if file_egoid in egoids_grades:\n",
    "            copy(os.path.join(egoid_dir, file), EGOID_GRADES_DIR)"
   ]
  },
  {
   "cell_type": "code",
   "execution_count": 7,
   "metadata": {},
   "outputs": [],
   "source": [
    "# copyAllStudentsWithGradesData()"
   ]
  },
  {
   "cell_type": "markdown",
   "metadata": {},
   "source": [
    "The below functions help get the mappings from various variables, so that we can map date and egoid back to the original raw sleep data."
   ]
  },
  {
   "cell_type": "code",
   "execution_count": 8,
   "metadata": {},
   "outputs": [],
   "source": [
    "# list of all egoids with grades\n",
    "def get_egoid_list():\n",
    "    egoids = os.listdir(EGOID_GRADES_DIR)\n",
    "    return [int(x.split('.')[0]) for x in egoids]"
   ]
  },
  {
   "cell_type": "code",
   "execution_count": 9,
   "metadata": {},
   "outputs": [],
   "source": [
    "# gets a map from each idSleepMeta to its corresponding idStudy\n",
    "def get_map_idSleepMeta_to_idStudy():\n",
    "    map_idSleepMeta_to_studyID_sleep = {}\n",
    "    with open(SLEEP_META_PATH, 'r') as file:\n",
    "        reader = csv.reader(file)\n",
    "        next(reader) # skips header\n",
    "        for row in reader:\n",
    "            map_idSleepMeta_to_studyID_sleep[int(row[0])] = int(row[1])\n",
    "    return map_idSleepMeta_to_studyID_sleep"
   ]
  },
  {
   "cell_type": "code",
   "execution_count": 10,
   "metadata": {},
   "outputs": [],
   "source": [
    "# get list of all idSleepMeta values\n",
    "def get_idSleepMeta_list(idStudy_list):\n",
    "    idSleepMeta_list = []\n",
    "    idStudy_set = set(idStudy_list)\n",
    "    with open(SLEEP_META_PATH, 'r') as file:\n",
    "        reader = csv.reader(file)\n",
    "        next(reader) # skips header\n",
    "        for row in reader:\n",
    "            if int(row[1]) in idStudy_set: idSleepMeta_list.append(int(row[0]))\n",
    "    return idSleepMeta_list"
   ]
  },
  {
   "cell_type": "code",
   "execution_count": 11,
   "metadata": {},
   "outputs": [],
   "source": [
    "# gets a map from each idSleepMeta to its corresponding date\n",
    "def get_map_idStudy_to_dataDate(egoid):\n",
    "    egoid_file = os.path.join(EGOID_GRADES_DIR,str(egoid)+'.csv')\n",
    "    map_idStudy_to_dataDate = {}\n",
    "    with open(egoid_file, 'r') as file:\n",
    "        reader = csv.reader(file)\n",
    "        next(reader) # skips header\n",
    "        for row in reader:\n",
    "            map_idStudy_to_dataDate[int(row[0])] = row[2]\n",
    "    return map_idStudy_to_dataDate"
   ]
  },
  {
   "cell_type": "code",
   "execution_count": 12,
   "metadata": {},
   "outputs": [],
   "source": [
    "# get all the idStudy values from an egoid\n",
    "def get_idStudy_list(egoid):\n",
    "    map_idStudy_to_dataDate = get_map_idStudy_to_dataDate(egoid)\n",
    "    return list(map_idStudy_to_dataDate.keys())"
   ]
  },
  {
   "cell_type": "markdown",
   "metadata": {},
   "source": [
    "The updateDataFrame function below takes in a dataframe from the Sleep_split_by_sleepMetaID/ folder, the corresponding egoid, a map from study to date, and meta to study, and uses this to create the file to go in sleep_raw_data that has the time and corresponding sleep value for every minute for the given participant."
   ]
  },
  {
   "cell_type": "code",
   "execution_count": 13,
   "metadata": {},
   "outputs": [],
   "source": [
    "# gets the sleep_raw_data file for the given df (from Sleep_split_by_sleepMetaID/) \n",
    "# and egoid \n",
    "def updateDataFrame(df, egoid, study_to_date, meta_to_study):\n",
    "\n",
    "    df['date'] = df['sleepMetaID'].apply(lambda x: study_to_date[meta_to_study[x]])\n",
    "    df['hhmmss'] = df['time']\n",
    "    df = df.drop(columns=['time'])\n",
    "    df['time'] = df.apply(lambda row: row['date'] + ' ' + row['hhmmss'], axis=1)  \n",
    "    df['sleep_value'] = df['state'].apply(lambda x: int(x.split(' ')[1]))\n",
    "    return df[['time','sleep_value']]"
   ]
  },
  {
   "cell_type": "markdown",
   "metadata": {},
   "source": [
    "Now we convert all the files split by egoid with grades (StudyEgo_split_by_egoid_grades_only/) and convert them to their corresponding sleep raw data files in sleep_raw_data/"
   ]
  },
  {
   "cell_type": "code",
   "execution_count": 14,
   "metadata": {},
   "outputs": [],
   "source": [
    "# takes in an egoid and coverts that file to the raw sleep file\n",
    "def getRawSleepFile(egoid):\n",
    "    egoid_file = os.path.join(EGOID_GRADES_DIR,str(egoid)+'.csv')\n",
    "\n",
    "    idStudy_list = get_idStudy_list(egoid)\n",
    "    idSleepMeta_list = get_idSleepMeta_list(idStudy_list)\n",
    "\n",
    "    study_to_date = get_map_idStudy_to_dataDate(egoid)\n",
    "    meta_to_study = get_map_idSleepMeta_to_idStudy()\n",
    "\n",
    "    df_list = []\n",
    "    for sleepMetaID_path in idSleepMeta_list:\n",
    "        sleep_episode_path = os.path.join(SPLIT_BY_METAID_DIR, \n",
    "                                          str(sleepMetaID_path)+'.csv')\n",
    "\n",
    "        try:\n",
    "            sleep_episode_df = pd.read_csv(sleep_episode_path)\n",
    "            sleep_df = updateDataFrame(sleep_episode_df, egoid, \n",
    "                                       study_to_date, meta_to_study)\n",
    "            df_list.append(sleep_df)\n",
    "        except:\n",
    "            print('ERROR:', sleep_episode_path)\n",
    "\n",
    "\n",
    "    dfs = pd.concat(df_list,axis=0)\n",
    "    return dfs"
   ]
  },
  {
   "cell_type": "code",
   "execution_count": 15,
   "metadata": {},
   "outputs": [],
   "source": [
    "# iterates through all the egoids with grades, and converts them to their\n",
    "# corresponding raw sleep files\n",
    "def saveAllSleepRawFiles():\n",
    "    egoid_list = get_egoid_list() # gets only egoids with grades\n",
    "    \n",
    "    for egoid in tqdm(egoid_list):\n",
    "        dfs = getRawSleepFile(egoid)\n",
    "        dfs.to_csv(os.path.join(SLEEP_RAW_DIR, str(egoid)+'.csv'), index=False)"
   ]
  },
  {
   "cell_type": "code",
   "execution_count": 2,
   "metadata": {},
   "outputs": [],
   "source": [
    "# saveAllSleepRawFiles()"
   ]
  },
  {
   "cell_type": "markdown",
   "metadata": {},
   "source": [
    "We do not use steps data from the NetHealth dataset in our raw data files, but to make the folder names consistent with those from Life@CMU and UWEXP, we call the folder which contains the minute-by-minute sleep/wake data \"sleep_steps_data/\".\n",
    "\n",
    "Below, we position each of the sleep_raw_data/ files onto a minute-by-minute index for the first Spring semester of the study (when all the participating students are first-years), and save these results to the combined sleep_steps_data/ file."
   ]
  },
  {
   "cell_type": "code",
   "execution_count": 22,
   "metadata": {},
   "outputs": [],
   "source": [
    "# put all raw sleep data on same minute index\n",
    "# NetHealth Jan 12 - May 6, 2016 (Spring Break = Mar 5-13)\n",
    "\n",
    "def saveAllCombined():\n",
    "    TIME_INDEX = pd.date_range(start='1/12/2016', end='5/6/2016', freq='min')\n",
    "    combined_dir = os.path.join('sleep_steps_data/')\n",
    "\n",
    "    sleep_files = os.listdir(SLEEP_RAW_DIR)\n",
    "\n",
    "    DATE_FORMAT = '%Y-%m-%d %H:%M:%S'\n",
    "\n",
    "    for sleep_file in tqdm(sleep_files):\n",
    "\n",
    "        if os.path.isfile(os.path.join(COMBINED_DIR, sleep_file)):\n",
    "            continue\n",
    "\n",
    "        try:\n",
    "            df_sleep = pd.read_csv(os.path.join(SLEEP_RAW_DIR, sleep_file))\n",
    "            df_sleep['time'] = df_sleep['time'].apply(lambda time: \n",
    "                                                      datetime.strptime(time,DATE_FORMAT).replace(second=0))\n",
    "\n",
    "            df = pd.DataFrame(index=TIME_INDEX)\n",
    "            df = df.merge(df_sleep[['sleep_value','time']],how='left',left_index=True,right_on='time')\n",
    "            df = df.set_index('time')\n",
    "            df.sort_index(inplace=True)\n",
    "            df.to_csv(os.path.join(COMBINED_DIR, sleep_file))\n",
    "        except:\n",
    "            print(sleep_file)"
   ]
  },
  {
   "cell_type": "code",
   "execution_count": 23,
   "metadata": {},
   "outputs": [],
   "source": [
    "# saveAllCombined()"
   ]
  }
 ],
 "metadata": {
  "kernelspec": {
   "display_name": "Python 3",
   "language": "python",
   "name": "python3"
  },
  "language_info": {
   "codemirror_mode": {
    "name": "ipython",
    "version": 3
   },
   "file_extension": ".py",
   "mimetype": "text/x-python",
   "name": "python",
   "nbconvert_exporter": "python",
   "pygments_lexer": "ipython3",
   "version": "3.8.2"
  }
 },
 "nbformat": 4,
 "nbformat_minor": 4
}
